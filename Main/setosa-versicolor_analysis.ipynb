{
 "cells": [
  {
   "cell_type": "code",
   "execution_count": 2,
   "metadata": {},
   "outputs": [],
   "source": [
    "import numpy as np\n",
    "import matplotlib.pyplot as plt\n",
    "import pandas as pd\n",
    "from sklearn.model_selection import train_test_split\n",
    "\n",
    "import parameter_tuning\n",
    "import plot_boundary\n",
    "import analysis_functions as af\n",
    "\n",
    "from metric_functions import compute_accuracy, compute_auc_from_scores\n",
    "from kernel_SVM_functions import rbf_kernel\n",
    "from classifiers import QUBOSoftMarginClassifier, SoftMarginKernelClassifier\n"
   ]
  },
  {
   "cell_type": "code",
   "execution_count": 3,
   "metadata": {},
   "outputs": [],
   "source": [
    "filename = 'setosa-versicolor'\n",
    "\n",
    "data = pd.read_csv(f'iris_data/{filename}.csv').to_numpy()\n",
    "\n",
    "X = data[:, 1: -1]\n",
    "t = data[:, -1]\n",
    "#iris_setosa will be 1, iris-versicolor will be -1\n",
    "t[t == 'Iris-setosa'] = 1\n",
    "t[t == 'Iris-versicolor'] = -1\n",
    "t = t.astype('float')\n",
    "\n",
    "X_train, X_test, t_train, t_test = train_test_split(X, t, train_size = 0.4, shuffle = True, stratify = t)\n",
    "t_train = t_train.reshape(-1, 1)\n",
    "t_test = t_test.reshape(-1, 1)"
   ]
  },
  {
   "cell_type": "code",
   "execution_count": 4,
   "metadata": {},
   "outputs": [],
   "source": [
    "read_from_files = True"
   ]
  },
  {
   "attachments": {},
   "cell_type": "markdown",
   "metadata": {},
   "source": [
    "## Tuning parameters for qSVM"
   ]
  },
  {
   "cell_type": "code",
   "execution_count": 5,
   "metadata": {},
   "outputs": [],
   "source": [
    "B_values = [2, 3, 5, 10]\n",
    "K_values = [2, 3]\n",
    "R_values = [0, 1, 3, 5]\n",
    "gamma_values = [-1] + [2 ** i for i in range(-3, 3)]\n",
    "kernel_func = rbf_kernel\n",
    "#This results in a matrix with shape (4, 2, 4, 7)\n",
    "\n",
    "run = not read_from_files\n",
    "\n",
    "if run:\n",
    "\n",
    "    accuracy_results, auroc_results, times = parameter_tuning.tune_qsvm_parameters(X_train, t_train, B_values, K_values, R_values, gamma_values, kernel_func)\n",
    "\n",
    "    np.save(f'results/QUBO-{filename}-accuracy', accuracy_results)\n",
    "    np.save(f'results/QUBO-{filename}-auroc', auroc_results)\n",
    "    np.save(f'results/QUBO-{filename}-time', times)"
   ]
  },
  {
   "attachments": {},
   "cell_type": "markdown",
   "metadata": {},
   "source": [
    "## Tuning parameters for kSVM"
   ]
  },
  {
   "cell_type": "code",
   "execution_count": 6,
   "metadata": {},
   "outputs": [],
   "source": [
    "C_values = [2, 6, 3, 5, 9, 10, 15, 30]\n",
    "gamma_values = [-1] + [2 **i for i in range(-3, 3)]\n",
    "kernel_func = rbf_kernel\n",
    "\n",
    "run = not read_from_files\n",
    "\n",
    "if run:\n",
    "\n",
    "    accuracy_results, auroc_results, times = parameter_tuning.tune_csvm_parameters(X_train, t_train, C_values, gamma_values, kernel_func)\n",
    "\n",
    "    np.save(f'results/kSVM-{filename}-accuracy', accuracy_results)\n",
    "    np.save(f'results/kSVM-{filename}-auroc', auroc_results)\n",
    "    np.save(f'results/kSVM-{filename}-time', times)"
   ]
  },
  {
   "attachments": {},
   "cell_type": "markdown",
   "metadata": {},
   "source": [
    "## Get data from files"
   ]
  },
  {
   "cell_type": "code",
   "execution_count": 7,
   "metadata": {},
   "outputs": [],
   "source": [
    "if read_from_files:\n",
    "    qSVM_accuracy = np.load(f'results/QUBO-{filename}-accuracy.npy')\n",
    "    qSVM_auroc = np.load(f'results/QUBO-{filename}-auroc.npy')\n",
    "\n",
    "    cSVM_accuracy = np.load(f'results/kSVM-{filename}-accuracy.npy')\n",
    "    cSVM_auroc = np.load(f'results/kSVM-{filename}-auroc.npy')"
   ]
  },
  {
   "cell_type": "code",
   "execution_count": 8,
   "metadata": {},
   "outputs": [
    {
     "data": {
      "text/plain": [
       "((4, 2, 4, 7), (8, 7))"
      ]
     },
     "execution_count": 8,
     "metadata": {},
     "output_type": "execute_result"
    }
   ],
   "source": [
    "qSVM_accuracy.shape, cSVM_accuracy.shape"
   ]
  },
  {
   "attachments": {},
   "cell_type": "markdown",
   "metadata": {},
   "source": [
    "## Best models\n",
    "Finding best models based on Accuracy (because AUROC is 1 for all parameters) and then plotting them"
   ]
  },
  {
   "cell_type": "code",
   "execution_count": 9,
   "metadata": {},
   "outputs": [],
   "source": [
    "val_list = [B_values, K_values, R_values, gamma_values]\n",
    "model_indices = af.find_best(qSVM_accuracy, 20)\n",
    "top_models = [af.get_params(val_list, model_indices[i]) for i in range(len(model_indices))]\n",
    "\n",
    "#top_model_acc = [qSVM_accuracy[index] for index in model_indices]\n",
    "#top_model_auc = [qSVM_auroc[index] for index in model_indices]"
   ]
  },
  {
   "cell_type": "code",
   "execution_count": 10,
   "metadata": {},
   "outputs": [],
   "source": [
    "tp_acc_mean = []\n",
    "tp_acc_std = []\n",
    "\n",
    "tp_auc_mean = []\n",
    "tp_auc_std = []\n",
    "\n",
    "kernel_func = rbf_kernel\n",
    "n = 50\n",
    "\n",
    "#Averaging the accuracy and auc for each parameter set over 50 models\n",
    "for i, model_parameters in enumerate(top_models):\n",
    "\n",
    "    accuracy = []\n",
    "    auroc = []\n",
    "\n",
    "    for j in range(n):\n",
    "        \n",
    "        qsmc = QUBOSoftMarginClassifier(model_parameters[0], model_parameters[1], model_parameters[2], kernel_func, model_parameters[3])\n",
    "        qsmc = qsmc.make_QUBO_problem(X_train, t_train).fit(X_train, t_train)\n",
    "        scores = qsmc.decision_function(X_test)\n",
    "        preds = qsmc.predict(X_test)\n",
    "        \n",
    "        accuracy.append(compute_accuracy(preds, t_test))\n",
    "        auroc.append(compute_auc_from_scores(scores, t_test))\n",
    "\n",
    "    tp_acc_mean.append(np.mean(accuracy))\n",
    "    tp_acc_std.append(np.std(accuracy))\n",
    "\n",
    "    tp_auc_mean.append(np.mean(auroc))\n",
    "    tp_auc_std.append(np.std(auroc))"
   ]
  },
  {
   "cell_type": "code",
   "execution_count": 12,
   "metadata": {},
   "outputs": [
    {
     "data": {
      "image/png": "[encoded data removed]",
      "text/plain": [
       "<Figure size 400x400 with 1 Axes>"
      ]
     },
     "metadata": {},
     "output_type": "display_data"
    }
   ],
   "source": [
    "fig, ax = plt.subplots(figsize = (4, 4))\n",
    "\n",
    "af.plot_top_models(top_models, np.array([tp_acc_mean, tp_acc_std]), np.array([tp_auc_mean, tp_auc_std]), fig = fig, ax = ax)\n",
    "plt.show()"
   ]
  },
  {
   "attachments": {},
   "cell_type": "markdown",
   "metadata": {},
   "source": [
    "## cSVM performance"
   ]
  },
  {
   "cell_type": "code",
   "execution_count": null,
   "metadata": {},
   "outputs": [
    {
     "data": {
      "image/png": "[encoded data removed]",
      "text/plain": [
       "<Figure size 400x400 with 2 Axes>"
      ]
     },
     "metadata": {},
     "output_type": "display_data"
    }
   ],
   "source": [
    "#Showing the decision boundary between petal length and petal width -- which divides the data really well. \n",
    "dimensions = [0, 1]\n",
    "clf = SoftMarginKernelClassifier(15, kernel_func, 1)\n",
    "clf = clf.fit(X_train, t_train)\n",
    "scores = clf.decision_function(X_test)\n",
    "preds = clf.predict(X_test)\n",
    "c_prob_dist = clf.predict_proba(X_test)\n",
    "\n",
    "clf.support_vectors = clf.support_vectors[:, dimensions]\n",
    "clf.alphas = clf.alphas[dimensions]\n",
    "plot_X_test = X_test[:, dimensions]\n",
    "plot_t_test = t_test\n",
    "\n",
    "plot_boundary.plot(plot_X_test, plot_t_test, clf, contour_func = 'decision_function', colorbar = True)"
   ]
  },
  {
   "attachments": {},
   "cell_type": "markdown",
   "metadata": {},
   "source": [
    "## qSVM performance"
   ]
  },
  {
   "cell_type": "code",
   "execution_count": null,
   "metadata": {},
   "outputs": [
    {
     "ename": "NameError",
     "evalue": "name 'QUBOSoftMarginClassifier' is not defined",
     "output_type": "error",
     "traceback": [
      "\u001b[0;31m---------------------------------------------------------------------------\u001b[0m",
      "\u001b[0;31mNameError\u001b[0m                                 Traceback (most recent call last)",
      "\u001b[0;32m/var/folders/25/rmyvglr94s10x5yg63fz4vj40000gn/T/ipykernel_1056/3264139116.py\u001b[0m in \u001b[0;36m<module>\u001b[0;34m\u001b[0m\n\u001b[1;32m      1\u001b[0m \u001b[0;31m#Showing the decision boundary between petal length and petal width -- which divides the data really well.\u001b[0m\u001b[0;34m\u001b[0m\u001b[0;34m\u001b[0m\u001b[0m\n\u001b[1;32m      2\u001b[0m \u001b[0mdimensions\u001b[0m \u001b[0;34m=\u001b[0m \u001b[0;34m[\u001b[0m\u001b[0;36m0\u001b[0m\u001b[0;34m,\u001b[0m \u001b[0;36m1\u001b[0m\u001b[0;34m]\u001b[0m\u001b[0;34m\u001b[0m\u001b[0;34m\u001b[0m\u001b[0m\n\u001b[0;32m----> 3\u001b[0;31m \u001b[0mclf\u001b[0m \u001b[0;34m=\u001b[0m \u001b[0mQUBOSoftMarginClassifier\u001b[0m\u001b[0;34m(\u001b[0m\u001b[0;36m2\u001b[0m\u001b[0;34m,\u001b[0m \u001b[0;36m3\u001b[0m\u001b[0;34m,\u001b[0m \u001b[0;36m5\u001b[0m\u001b[0;34m,\u001b[0m \u001b[0mkernel_func\u001b[0m\u001b[0;34m,\u001b[0m \u001b[0;36m1\u001b[0m\u001b[0;34m)\u001b[0m\u001b[0;34m\u001b[0m\u001b[0;34m\u001b[0m\u001b[0m\n\u001b[0m\u001b[1;32m      4\u001b[0m \u001b[0mclf\u001b[0m \u001b[0;34m=\u001b[0m \u001b[0mclf\u001b[0m\u001b[0;34m.\u001b[0m\u001b[0mmake_QUBO_problem\u001b[0m\u001b[0;34m(\u001b[0m\u001b[0mX_train\u001b[0m\u001b[0;34m,\u001b[0m \u001b[0mt_train\u001b[0m\u001b[0;34m)\u001b[0m\u001b[0;34m.\u001b[0m\u001b[0mfit\u001b[0m\u001b[0;34m(\u001b[0m\u001b[0mX_train\u001b[0m\u001b[0;34m,\u001b[0m \u001b[0mt_train\u001b[0m\u001b[0;34m)\u001b[0m\u001b[0;34m\u001b[0m\u001b[0;34m\u001b[0m\u001b[0m\n\u001b[1;32m      5\u001b[0m \u001b[0mscores\u001b[0m \u001b[0;34m=\u001b[0m \u001b[0mclf\u001b[0m\u001b[0;34m.\u001b[0m\u001b[0mdecision_function\u001b[0m\u001b[0;34m(\u001b[0m\u001b[0mX_test\u001b[0m\u001b[0;34m)\u001b[0m\u001b[0;34m\u001b[0m\u001b[0;34m\u001b[0m\u001b[0m\n",
      "\u001b[0;31mNameError\u001b[0m: name 'QUBOSoftMarginClassifier' is not defined"
     ]
    }
   ],
   "source": [
    "#Showing the decision boundary between petal length and petal width -- which divides the data really well. \n",
    "dimensions = [0, 1]\n",
    "clf = QUBOSoftMarginClassifier(2, 3, 5, kernel_func, 1)\n",
    "clf = clf.make_QUBO_problem(X_train, t_train).fit(X_train, t_train)\n",
    "scores = clf.decision_function(X_test)\n",
    "preds = clf.predict(X_test)\n",
    "q_prob_dist = clf.predict_proba(X_test)\n",
    "\n",
    "clf.support_vectors = clf.support_vectors[:, dimensions]\n",
    "clf.alphas = clf.alphas[dimensions]\n",
    "plot_X_test = X_train[:, dimensions]\n",
    "plot_t_test = t_train\n",
    "\n",
    "fig, ax = plt.subplots(figsize = (4, 4))\n",
    "\n",
    "plot_boundary.plot(plot_X_test, plot_t_test, clf, contour_func = 'decision_function', colorbar = True, fig = fig, ax = ax)\n",
    "ax.set_ylabel('Sepal Length')\n",
    "ax.set_xlabel('Sepal Width')\n",
    "plt.show()"
   ]
  },
  {
   "attachments": {},
   "cell_type": "markdown",
   "metadata": {},
   "source": [
    "### Probability distribution of the models"
   ]
  },
  {
   "cell_type": "code",
   "execution_count": null,
   "metadata": {},
   "outputs": [
    {
     "data": {
      "image/png": "[encoded data removed]",
      "text/plain": [
       "<Figure size 800x400 with 2 Axes>"
      ]
     },
     "metadata": {},
     "output_type": "display_data"
    }
   ],
   "source": [
    "fig, ax = plt.subplots(1, 2, figsize = (8, 4))\n",
    "\n",
    "ax[0].hist(c_prob_dist, label = 'cSVM probability distribution', color = 'lightgreen', bins = 50)\n",
    "ax[1].hist(q_prob_dist, label = 'qSVM probability distribution', color = 'lightblue', bins = 50)\n",
    "\n",
    "ax[0].set_xlim(0, 1)\n",
    "ax[1].set_xlim(0, 1)\n",
    "\n",
    "plt.show()"
   ]
  },
  {
   "cell_type": "code",
   "execution_count": null,
   "metadata": {},
   "outputs": [
    {
     "data": {
      "text/plain": [
       "((4, 2, 4, 7), (8, 7))"
      ]
     },
     "execution_count": 11,
     "metadata": {},
     "output_type": "execute_result"
    }
   ],
   "source": [
    "qSVM_accuracy.shape, cSVM_accuracy.shape"
   ]
  },
  {
   "attachments": {},
   "cell_type": "markdown",
   "metadata": {},
   "source": [
    "## Variance\n",
    "\n",
    "4 different values of R. For each other combination of the other 3 hyper-parameters -- B, K, gamma -- what is the variance of R as it varies. <br>\n",
    "We end up with a 4x2x7 matrix with each element corresponding to the variance of the results for each different combination of B, K, gamma, which is then the variance over R. <br>\n",
    "Would the variance of the variance the hyper-parameter be useful? <br>\n",
    "Would the mean of the variance for each hyper-parameter be useful? No. <br>\n",
    "Ok, basically both of them might be a better indication as to how important the parameters are. They can define a distribution which will be easier to understand than a list of numbers.\n",
    "Where the variance appears would also be useful, but might be a little too in depth for the current level of analysis.\n",
    "<br>\n",
    "Note: cSVM nailed the classification, so it doesn't have any variance."
   ]
  },
  {
   "cell_type": "code",
   "execution_count": null,
   "metadata": {},
   "outputs": [],
   "source": [
    "\"\"\"QUBO SVM\"\"\"\n",
    "\n",
    "qSVM_variances = {'B': {}, 'K': {}, 'R': {}, 'gamma': {}}\n",
    "\n",
    "for i, key in enumerate(list(qSVM_variances.keys())):\n",
    "    auc = np.var(qSVM_auroc, axis = i)\n",
    "    acc = np.var(qSVM_accuracy, axis = i)\n",
    "    qSVM_variances[key]['auc'] = (np.mean(auc), np.var(auc))\n",
    "    qSVM_variances[key]['acc'] = (np.mean(acc), np.var(acc))"
   ]
  },
  {
   "cell_type": "code",
   "execution_count": null,
   "metadata": {},
   "outputs": [
    {
     "data": {
      "text/plain": [
       "{'B': {'auc': (0.0, 0.0),\n",
       "  'acc': (0.00030133928571428553, 2.6641020015794433e-07)},\n",
       " 'K': {'auc': (0.0, 0.0),\n",
       "  'acc': (0.0021272042410714286, 1.526853888608971e-05)},\n",
       " 'R': {'auc': (0.0, 0.0),\n",
       "  'acc': (0.0015177315848214283, 1.406794880828078e-05)},\n",
       " 'gamma': {'auc': (0.12244897959183675, 0.0),\n",
       "  'acc': (0.04317787786989796, 0.00013576830389369981)}}"
      ]
     },
     "metadata": {},
     "output_type": "display_data"
    }
   ],
   "source": [
    "display(qSVM_variances)"
   ]
  },
  {
   "attachments": {},
   "cell_type": "markdown",
   "metadata": {},
   "source": [
    "## C, R, and Gamma"
   ]
  },
  {
   "cell_type": "code",
   "execution_count": null,
   "metadata": {},
   "outputs": [
    {
     "data": {
      "text/plain": [
       "array([  3.,   7.,   4.,  13.,   6.,  31.,  11., 111.])"
      ]
     },
     "execution_count": 14,
     "metadata": {},
     "output_type": "execute_result"
    }
   ],
   "source": [
    "C_values = np.zeros((len(B_values), len(K_values)))\n",
    "\n",
    "for i, B in enumerate(B_values):\n",
    "    for j, K in enumerate(K_values):\n",
    "       C_values[i, j] = np.sum([B ** k for k in range(K)])\n",
    "C_values = C_values.flatten()\n",
    "C_values"
   ]
  },
  {
   "cell_type": "code",
   "execution_count": null,
   "metadata": {},
   "outputs": [],
   "source": [
    "C_qSVM_accuracy = np.array([qSVM_accuracy[i, j, :, :] for i in range(len(B_values)) for j in range(len(K_values))])"
   ]
  },
  {
   "cell_type": "code",
   "execution_count": null,
   "metadata": {},
   "outputs": [
    {
     "data": {
      "text/plain": [
       "array([[[0.4425, 0.99  , 0.9925, 0.99  , 0.975 , 0.9625, 0.97  ],\n",
       "        [0.4475, 0.95  , 0.9525, 0.9725, 0.955 , 0.9475, 0.925 ],\n",
       "        [0.455 , 0.705 , 0.9225, 0.9375, 0.92  , 0.8975, 0.8525],\n",
       "        [0.4475, 0.635 , 0.83  , 0.91  , 0.9125, 0.8675, 0.8825]],\n",
       "\n",
       "       [[0.37  , 0.9975, 0.995 , 0.9975, 0.985 , 0.9875, 0.9875],\n",
       "        [0.34  , 0.985 , 0.985 , 0.9975, 0.9875, 0.9825, 0.9725],\n",
       "        [0.33  , 0.95  , 0.9825, 0.9875, 0.9875, 0.9725, 0.945 ],\n",
       "        [0.34  , 0.9675, 0.9875, 0.9875, 0.99  , 0.965 , 0.945 ]],\n",
       "\n",
       "       [[0.415 , 0.9775, 0.985 , 0.995 , 0.995 , 0.98  , 0.935 ],\n",
       "        [0.4475, 0.935 , 0.98  , 0.9925, 0.97  , 0.95  , 0.9025],\n",
       "        [0.4125, 0.7275, 0.89  , 0.92  , 0.91  , 0.8975, 0.89  ],\n",
       "        [0.38  , 0.7275, 0.9125, 0.9025, 0.9125, 0.885 , 0.8475]],\n",
       "\n",
       "       [[0.3125, 0.99  , 0.995 , 0.995 , 0.9875, 0.995 , 0.9825],\n",
       "        [0.2925, 0.98  , 0.9925, 0.9925, 0.985 , 0.975 , 0.9425],\n",
       "        [0.32  , 0.9675, 0.9875, 0.985 , 0.9775, 0.9825, 0.9375],\n",
       "        [0.34  , 0.9625, 0.98  , 0.9775, 0.975 , 0.9675, 0.955 ]],\n",
       "\n",
       "       [[0.43  , 0.985 , 0.99  , 0.9775, 0.985 , 0.9775, 0.9275],\n",
       "        [0.395 , 0.87  , 0.9675, 0.9725, 0.9525, 0.9175, 0.8975],\n",
       "        [0.4475, 0.7275, 0.8825, 0.93  , 0.9175, 0.905 , 0.85  ],\n",
       "        [0.435 , 0.7375, 0.9225, 0.92  , 0.9075, 0.88  , 0.8425]],\n",
       "\n",
       "       [[0.3075, 0.995 , 0.9925, 0.99  , 0.995 , 0.995 , 0.9725],\n",
       "        [0.2925, 0.975 , 0.985 , 0.9875, 0.9875, 0.965 , 0.9275],\n",
       "        [0.3   , 0.96  , 0.9825, 0.9775, 0.965 , 0.9525, 0.9425],\n",
       "        [0.275 , 0.955 , 0.9825, 0.9875, 0.9775, 0.975 , 0.9375]],\n",
       "\n",
       "       [[0.395 , 0.9325, 0.9825, 0.9725, 0.985 , 0.9625, 0.9275],\n",
       "        [0.4   , 0.8975, 0.935 , 0.95  , 0.9425, 0.9075, 0.9125],\n",
       "        [0.355 , 0.7625, 0.8775, 0.92  , 0.93  , 0.865 , 0.84  ],\n",
       "        [0.4125, 0.7925, 0.9225, 0.9075, 0.945 , 0.87  , 0.865 ]],\n",
       "\n",
       "       [[0.3   , 0.9825, 0.9925, 0.995 , 0.99  , 0.985 , 0.9575],\n",
       "        [0.315 , 0.9675, 0.9875, 0.9875, 0.9775, 0.965 , 0.9325],\n",
       "        [0.2775, 0.9675, 0.985 , 0.9725, 0.97  , 0.9575, 0.92  ],\n",
       "        [0.2875, 0.96  , 0.995 , 0.9875, 0.985 , 0.9575, 0.91  ]]])"
      ]
     },
     "execution_count": 19,
     "metadata": {},
     "output_type": "execute_result"
    }
   ],
   "source": [
    "C_qSVM_accuracy"
   ]
  },
  {
   "cell_type": "code",
   "execution_count": null,
   "metadata": {},
   "outputs": [
    {
     "name": "stdout",
     "output_type": "stream",
     "text": [
      "(0, 1, 0, 1)\n",
      "2 3 0 0.125\n"
     ]
    }
   ],
   "source": [
    "print(np.unravel_index(np.argmax(qSVM_accuracy), qSVM_accuracy.shape))\n",
    "print(B_values[0], K_values[1], R_values[0], gamma_values[1])"
   ]
  }
 ],
 "metadata": {
  "kernelspec": {
   "display_name": "base",
   "language": "python",
   "name": "python3"
  },
  "language_info": {
   "codemirror_mode": {
    "name": "ipython",
    "version": 3
   },
   "file_extension": ".py",
   "mimetype": "text/x-python",
   "name": "python",
   "nbconvert_exporter": "python",
   "pygments_lexer": "ipython3",
   "version": "3.9.13"
  },
  "orig_nbformat": 4
 },
 "nbformat": 4,
 "nbformat_minor": 2
}
