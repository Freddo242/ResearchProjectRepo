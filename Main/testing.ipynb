{
 "cells": [
  {
   "cell_type": "code",
   "execution_count": 17,
   "metadata": {},
   "outputs": [],
   "source": [
    "import numpy as np\n",
    "import matplotlib.pyplot as plt\n",
    "from sklearn.model_selection import train_test_split\n",
    "\n",
    "import plot_boundary\n",
    "from kernel_SVM_functions import rbf_kernel\n",
    "from classifiers import SoftMarginKernelClassifier, QUBOSoftMarginClassifier\n"
   ]
  },
  {
   "cell_type": "code",
   "execution_count": 19,
   "metadata": {},
   "outputs": [],
   "source": [
    "with open('iris_data/setosa-versicolor.csv', 'r') as f:\n",
    "    data = np.loadtxt(f, delimiter=',', dtype=object)\n",
    "\n",
    "X = data[:, :-1].astype(float)\n",
    "t = data[:, -1]\n",
    "#iris_setosa will be 1, iris-versicolor will be -1\n",
    "t[t == 'Iris-setosa'] = 1\n",
    "t[t == 'Iris-versicolor'] = -1\n",
    "t = t.astype('float')\n",
    "\n",
    "X_train, X_test, t_train, t_test = train_test_split(X, t, train_size = 0.4, shuffle = True, stratify = t)\n",
    "t_train = t_train.reshape(-1, 1)\n",
    "t_test = t_test.reshape(-1, 1)"
   ]
  },
  {
   "cell_type": "code",
   "execution_count": 18,
   "metadata": {},
   "outputs": [
    {
     "name": "stdout",
     "output_type": "stream",
     "text": [
      "2\n",
      "6\n",
      "3\n",
      "9\n",
      "5\n",
      "15\n",
      "10\n",
      "30\n"
     ]
    }
   ],
   "source": [
    "B = [2, 3, 5, 10]\n",
    "K = [2, 3]\n",
    "\n",
    "def calc_C(b, k):\n",
    "    return np.sum([b * i for i in range(k)])\n",
    "\n",
    "for b in B:\n",
    "    for k in K:\n",
    "        print(calc_C(b, k))\n",
    "\n",
    "        "
   ]
  },
  {
   "cell_type": "code",
   "execution_count": 28,
   "metadata": {},
   "outputs": [],
   "source": [
    "a = np.ones((2, 2))\n",
    "a[0, 0] = None"
   ]
  }
 ],
 "metadata": {
  "kernelspec": {
   "display_name": "base",
   "language": "python",
   "name": "python3"
  },
  "language_info": {
   "codemirror_mode": {
    "name": "ipython",
    "version": 3
   },
   "file_extension": ".py",
   "mimetype": "text/x-python",
   "name": "python",
   "nbconvert_exporter": "python",
   "pygments_lexer": "ipython3",
   "version": "3.9.13"
  },
  "orig_nbformat": 4
 },
 "nbformat": 4,
 "nbformat_minor": 2
}
