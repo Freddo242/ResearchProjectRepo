{
 "cells": [
  {
   "cell_type": "code",
   "execution_count": 1,
   "metadata": {},
   "outputs": [],
   "source": [
    "import numpy as np\n",
    "import pandas as pd\n",
    "import matplotlib.pyplot as plt"
   ]
  },
  {
   "cell_type": "code",
   "execution_count": 7,
   "metadata": {},
   "outputs": [],
   "source": [
    "df = pd.read_csv('iris_data/versicolor-virginica.csv').loc[:, ['sepal_length', 'sepal_width', 'petal_length', 'petal_width', 'class']]\n",
    "versi = df[df['class'] == 'Iris-versicolor']\n",
    "virgi = df[df['class'] == 'Iris-virginica']\n",
    "versi_arr = np.array(versi.iloc[:, :-1])\n",
    "virgi_arr = np.array(virgi.iloc[:, :-1])"
   ]
  },
  {
   "cell_type": "code",
   "execution_count": 25,
   "metadata": {},
   "outputs": [],
   "source": [
    "virgi_cov = np.cov(virgi_arr.T)\n",
    "versi_cov = np.cov(versi_arr.T)"
   ]
  },
  {
   "cell_type": "code",
   "execution_count": 26,
   "metadata": {},
   "outputs": [],
   "source": [
    "W = (virgi_cov + versi_cov) / 2"
   ]
  },
  {
   "cell_type": "code",
   "execution_count": 30,
   "metadata": {},
   "outputs": [],
   "source": [
    "T = np.cov(np.vstack((versi_arr, virgi_arr)).T)"
   ]
  },
  {
   "cell_type": "code",
   "execution_count": 32,
   "metadata": {},
   "outputs": [],
   "source": [
    "B = T - W"
   ]
  },
  {
   "cell_type": "code",
   "execution_count": 34,
   "metadata": {},
   "outputs": [],
   "source": [
    "S = np.linalg.inv(W) @ B"
   ]
  },
  {
   "cell_type": "code",
   "execution_count": 35,
   "metadata": {},
   "outputs": [
    {
     "data": {
      "text/plain": [
       "array([[-0.59563368, -0.18320347, -1.16028866, -0.62863936],\n",
       "       [-0.91850017, -0.2974845 , -1.82009542, -0.98611981],\n",
       "       [ 1.14760688,  0.35906718,  2.26399115,  1.23209328],\n",
       "       [ 2.03931789,  0.63806879,  4.04110232,  2.17935071]])"
      ]
     },
     "execution_count": 35,
     "metadata": {},
     "output_type": "execute_result"
    }
   ],
   "source": [
    "S"
   ]
  }
 ],
 "metadata": {
  "kernelspec": {
   "display_name": "base",
   "language": "python",
   "name": "python3"
  },
  "language_info": {
   "codemirror_mode": {
    "name": "ipython",
    "version": 3
   },
   "file_extension": ".py",
   "mimetype": "text/x-python",
   "name": "python",
   "nbconvert_exporter": "python",
   "pygments_lexer": "ipython3",
   "version": "3.9.13"
  },
  "orig_nbformat": 4
 },
 "nbformat": 4,
 "nbformat_minor": 2
}
