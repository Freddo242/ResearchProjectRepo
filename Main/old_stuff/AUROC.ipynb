{
 "cells": [
  {
   "cell_type": "code",
   "execution_count": 18,
   "metadata": {},
   "outputs": [],
   "source": [
    "import numpy as np\n",
    "import matplotlib.pyplot as plt"
   ]
  },
  {
   "cell_type": "code",
   "execution_count": 2,
   "metadata": {},
   "outputs": [],
   "source": [
    "def true_positive_rate(preds, targets):\n",
    "\n",
    "    idx = np.argsort(-np.array(preds))\n",
    "    sorted_targets = np.array(targets)[idx]\n",
    "    TPR = np.cumsum(sorted_targets == 1) / np.sum(np.array(targets) == 1)\n",
    "    return TPR\n",
    "\n",
    "def false_positive_rate(preds, targets):\n",
    "    idx = np.argsort(-np.array(preds))\n",
    "    sorted_targets = np.array(targets)[idx]\n",
    "    FPR = np.cumsum(sorted_targets != 1) / np.sum(np.array(targets) != 1)\n",
    "    return FPR"
   ]
  },
  {
   "cell_type": "code",
   "execution_count": 3,
   "metadata": {},
   "outputs": [],
   "source": [
    "def compute_auc(TPR, FPR):\n",
    "    #Computes AUROC using the midpoint rule. i.e. splitting the area into rectangles.\n",
    "    areas = [(FPR[i+1] - FPR[i])*TPR[i] for i in range(len(TPR)-1)]\n",
    "    auc = np.sum(areas)\n",
    "    return auc"
   ]
  },
  {
   "cell_type": "code",
   "execution_count": 4,
   "metadata": {},
   "outputs": [],
   "source": [
    "scores = np.array([4.57524170e+00,  5.64951861e+00,  3.10576596e+00,  3.87349940e+00,\n",
    "  4.41223054e+00,  6.74114767e+00, -1.35732042e+00,  3.73641706e+00,\n",
    "  7.07532445e+00, -1.57835347e+00,  1.91586018e+00,  4.70154031e+00,\n",
    "  7.02626413e+00,  4.04941505e+00,  4.72519379e+00, -3.50624938e+00,\n",
    " -6.24414129e+00, -1.06394971e+01, -1.05745169e+01, -1.03824937e+01,\n",
    "  4.36337785e-01, -3.53414021e+00, -5.27779989e-01, -3.08817458e+00,\n",
    " -9.58749340e+00, -2.28411362e+00, -3.48618478e+00, -9.96579641e+00,\n",
    " -7.67909528e-01,  6.47249391e-04,])\n",
    "\n",
    "targets = np.array([ 1, 1, 1, 1, 1, 1, 1, 1, 1, 1, 1, 1, 1, 1, 1, -1, -1, -1,\n",
    " -1, -1, -1, -1, -1, -1, -1, -1, -1, -1, -1, -1])\n",
    "mid_preds = np.sign(scores)"
   ]
  },
  {
   "cell_type": "code",
   "execution_count": 15,
   "metadata": {},
   "outputs": [],
   "source": [
    "def compute_average_tpr_fpr(scores, y_test):\n",
    "    #Computes the average TPR for each FPR instance given scores and targets (y_test)\n",
    "\n",
    "    TPR = true_positive_rate(scores, y_test)\n",
    "    FPR = false_positive_rate(scores, y_test)\n",
    "\n",
    "    new_TPR = []\n",
    "    unique_fprs = np.unique(FPR)\n",
    "\n",
    "    for ufp in unique_fprs:\n",
    "        #print(TPR[ufp == FPR], '\\n')\n",
    "        new_TPR.append(np.mean(TPR[ufp == FPR]))\n",
    "    \n",
    "    return unique_fprs, new_TPR"
   ]
  },
  {
   "cell_type": "code",
   "execution_count": 42,
   "metadata": {},
   "outputs": [],
   "source": [
    "def compute_tpr_fpr_range(scores_list, y_test, low_quantile, high_quantile):\n",
    "    #Accepts scores_list which is mulitple instances of scores returned by a model\n",
    "    scores = scores_list.flatten()\n",
    "    targets = y_test.flatten()\n",
    "\n",
    "    TPRs = true_positive_rate(scores, targets)\n",
    "    FPRs = false_positive_rate(scores, targets)\n",
    "    \n",
    "    tpr_mid = []\n",
    "    tpr_high = []\n",
    "    tpr_low = []\n",
    "    unique_fpr = np.unique(FPRs)\n",
    "\n",
    "    for ufp in unique_fpr:\n",
    "        tpr_distr = sorted(TPRs[FPRs == ufp])\n",
    "        tpr_mid.append(np.median(tpr_distr))\n",
    "        tpr_low.append(tpr_distr[int(len(tpr_distr) * low_quantile)])\n",
    "        tpr_high.append(tpr_distr[int(len(tpr_distr) * high_quantile)])\n",
    "\n",
    "    return tpr_low, tpr_high, tpr_mid, unique_fpr        \n"
   ]
  },
  {
   "cell_type": "code",
   "execution_count": 49,
   "metadata": {},
   "outputs": [],
   "source": [
    "def plot_roc(tpr_low, tpr_high, tpr_mid, fpr, compute_auc_func):\n",
    "    auc = compute_auc_func(tpr_mid, fpr)\n",
    "    \n",
    "    plt.figure(figsize = (4, 4))\n",
    "    \n",
    "    plt.plot(fpr, tpr_mid, color = 'black', linewidth = 1, zorder = 2)\n",
    "    plt.scatter(fpr, tpr_mid, color = 'black', marker = 'o', s = 15, zorder = 3)\n",
    "    plt.fill_between(fpr, tpr_low, tpr_high, color = '#C0C0C0', zorder = 0)\n",
    "\n",
    "    plt.grid(visible = True)\n",
    "    plt.title(f'AUC ROC:{round(auc, 2)}')\n",
    "    plt.xlabel('FPR')\n",
    "    plt.ylabel('TPR')\n",
    "    plt.show()\n",
    "    "
   ]
  },
  {
   "cell_type": "code",
   "execution_count": 44,
   "metadata": {},
   "outputs": [],
   "source": [
    "tpr_low, tpr_high, tpr_mid, fpr = compute_tpr_fpr_range(scores, targets, 0.05, 0.95)"
   ]
  },
  {
   "cell_type": "code",
   "execution_count": 48,
   "metadata": {},
   "outputs": [
    {
     "data": {
      "image/png": "[encoded data removed]",
      "text/plain": [
       "<Figure size 400x400 with 1 Axes>"
      ]
     },
     "metadata": {},
     "output_type": "display_data"
    }
   ],
   "source": [
    "plot_roc(tpr_low, tpr_high, tpr_mid, fpr, compute_auc)"
   ]
  },
  {
   "cell_type": "code",
   "execution_count": null,
   "metadata": {},
   "outputs": [],
   "source": []
  }
 ],
 "metadata": {
  "kernelspec": {
   "display_name": "base",
   "language": "python",
   "name": "python3"
  },
  "language_info": {
   "codemirror_mode": {
    "name": "ipython",
    "version": 3
   },
   "file_extension": ".py",
   "mimetype": "text/x-python",
   "name": "python",
   "nbconvert_exporter": "python",
   "pygments_lexer": "ipython3",
   "version": "3.9.13"
  },
  "orig_nbformat": 4
 },
 "nbformat": 4,
 "nbformat_minor": 2
}
