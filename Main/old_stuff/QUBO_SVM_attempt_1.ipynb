{
 "cells": [
  {
   "cell_type": "code",
   "execution_count": 8,
   "metadata": {},
   "outputs": [],
   "source": [
    "import numpy as np\n",
    "import matplotlib.pyplot as plt\n",
    "import time as time\n",
    "import SVM_functions as svmf\n",
    "from cvxopt import matrix, solvers\n",
    "from scipy.stats import norm"
   ]
  },
  {
   "cell_type": "code",
   "execution_count": 3,
   "metadata": {},
   "outputs": [],
   "source": [
    "with open('synth_data/synth_0.1.csv', 'r') as f:\n",
    "    data = np.loadtxt(f, delimiter=',')\n",
    "\n",
    "np.random.shuffle(data)\n",
    "X_train = data[:5, :-1]\n",
    "t_train = data[:5, -1].reshape(-1, 1)\n",
    "X_test = data[5: , :-1]\n",
    "t_test = data[5: , -1].reshape(-1, 1)"
   ]
  },
  {
   "cell_type": "code",
   "execution_count": 4,
   "metadata": {},
   "outputs": [
    {
     "data": {
      "text/plain": [
       "((5, 2), (75, 2), (5, 1), (75, 1))"
      ]
     },
     "execution_count": 4,
     "metadata": {},
     "output_type": "execute_result"
    }
   ],
   "source": [
    "X_train.shape, X_test.shape, t_train.shape, t_test.shape"
   ]
  },
  {
   "attachments": {},
   "cell_type": "markdown",
   "metadata": {},
   "source": [
    "In order to gain some perspective on how this works and why it is not working for the data I am giving it, I'll start by attempting to solve a simpler problem with linear data:"
   ]
  },
  {
   "cell_type": "code",
   "execution_count": 14,
   "metadata": {},
   "outputs": [],
   "source": [
    "sigma = 0.2\n",
    "\n",
    "ys_pos = np.random.uniform(0, 10, 15)\n",
    "xs_pos = ys_pos + np.ones(ys_pos.shape) + norm.rvs(0, sigma, size=ys_pos.shape)\n",
    "\n",
    "ys_neg = np.random.uniform(0, 10, 15)\n",
    "xs_neg = ys_neg - np.ones(ys_neg.shape) + norm.rvs(0, sigma, size=ys_neg.shape)\n",
    "\n",
    "pos = np.hstack((ys_pos.reshape(-1, 1), xs_pos.reshape(-1, 1)))\n",
    "neg = np.hstack((ys_neg.reshape(-1, 1), xs_neg.reshape(-1, 1)))\n",
    "t = np.append(np.ones(pos.shape[0]), -1 * np.ones(pos.shape[0])).reshape(-1, 1)\n",
    "X = np.vstack((pos, neg))"
   ]
  },
  {
   "cell_type": "code",
   "execution_count": 15,
   "metadata": {},
   "outputs": [
    {
     "data": {
      "image/png": "[encoded data removed]",
      "text/plain": [
       "<Figure size 640x480 with 1 Axes>"
      ]
     },
     "metadata": {},
     "output_type": "display_data"
    }
   ],
   "source": [
    "plt.scatter(ys_pos, xs_pos, color='blue', s=7)\n",
    "plt.scatter(ys_neg, xs_neg, color='orange', s=7)\n",
    "plt.show()"
   ]
  },
  {
   "cell_type": "code",
   "execution_count": 18,
   "metadata": {},
   "outputs": [],
   "source": [
    "X_train = X[:25]\n",
    "X_test = X[25:]\n",
    "t_train = t[:25]\n",
    "t_test = t[25:]"
   ]
  },
  {
   "cell_type": "code",
   "execution_count": 1,
   "metadata": {},
   "outputs": [
    {
     "ename": "NameError",
     "evalue": "name 'X_train' is not defined",
     "output_type": "error",
     "traceback": [
      "\u001b[0;31m---------------------------------------------------------------------------\u001b[0m",
      "\u001b[0;31mNameError\u001b[0m                                 Traceback (most recent call last)",
      "\u001b[0;32m/var/folders/25/rmyvglr94s10x5yg63fz4vj40000gn/T/ipykernel_24309/1725058533.py\u001b[0m in \u001b[0;36m<module>\u001b[0;34m\u001b[0m\n\u001b[0;32m----> 1\u001b[0;31m \u001b[0mN\u001b[0m \u001b[0;34m=\u001b[0m \u001b[0mX_train\u001b[0m\u001b[0;34m.\u001b[0m\u001b[0mshape\u001b[0m\u001b[0;34m[\u001b[0m\u001b[0;36m0\u001b[0m\u001b[0;34m]\u001b[0m\u001b[0;34m\u001b[0m\u001b[0;34m\u001b[0m\u001b[0m\n\u001b[0m\u001b[1;32m      2\u001b[0m \u001b[0mK\u001b[0m \u001b[0;34m=\u001b[0m \u001b[0;36m3\u001b[0m\u001b[0;34m\u001b[0m\u001b[0;34m\u001b[0m\u001b[0m\n\u001b[1;32m      3\u001b[0m \u001b[0mB\u001b[0m \u001b[0;34m=\u001b[0m \u001b[0;36m2\u001b[0m\u001b[0;34m\u001b[0m\u001b[0;34m\u001b[0m\u001b[0m\n\u001b[1;32m      4\u001b[0m \u001b[0mR\u001b[0m \u001b[0;34m=\u001b[0m \u001b[0;36m1\u001b[0m\u001b[0;34m\u001b[0m\u001b[0;34m\u001b[0m\u001b[0m\n\u001b[1;32m      5\u001b[0m \u001b[0;34m\u001b[0m\u001b[0m\n",
      "\u001b[0;31mNameError\u001b[0m: name 'X_train' is not defined"
     ]
    }
   ],
   "source": [
    "N = X_train.shape[0]\n",
    "K = 3\n",
    "B = 2\n",
    "R = 1\n",
    "\n",
    "\n",
    "H = np.array([[np.dot(X_train[n], X_train[m]) - R for n in range(N)] for m in range(N)])\n",
    "H = H * t_train\n",
    "H = H * t_train.reshape(1, -1)\n",
    "#Making precision matrix\n",
    "b = np.array([B**k for k in range(K)])\n",
    "P = np.zeros((N, K * N))\n",
    "for i in range(N):\n",
    "    P[i, i*K: (i + 1) * K] = b\n",
    "\n",
    "#We have our QUBOS\n",
    "q = -P.T @ np.ones((N, 1))\n",
    "Q = (P.T @ H) @ P\n",
    "#Restricting it to between 0 and 1\n",
    "G = np.vstack((np.diag(-1 * np.ones(N * K)), np.diag(np.ones(N * K))))\n",
    "h = np.vstack((np.zeros((N * K, 1)), np.ones((N * K, 1))))\n",
    "\n",
    "print(Q.shape, q.shape, G.shape, h.shape)"
   ]
  },
  {
   "cell_type": "code",
   "execution_count": 84,
   "metadata": {},
   "outputs": [],
   "source": [
    "P = matrix(Q, tc='d')\n",
    "p = matrix(q, tc='d')\n",
    "A = matrix(G, tc='d')\n",
    "b = matrix(h, tc='d')"
   ]
  },
  {
   "cell_type": "code",
   "execution_count": 88,
   "metadata": {},
   "outputs": [],
   "source": [
    "#solvers.qp(P, p, A, b)"
   ]
  },
  {
   "cell_type": "code",
   "execution_count": 87,
   "metadata": {},
   "outputs": [],
   "source": [
    "def f(x, Q, q):\n",
    "    return 0.5 * (x.T @ Q) @ x + q.T @ x"
   ]
  },
  {
   "attachments": {},
   "cell_type": "markdown",
   "metadata": {},
   "source": [
    "## Annealing\n",
    "Scipy.optimise has annealing functions but they do not suit binary optimisation, which becomes a non-convex function.<br>\n",
    "Our problem is: <br>\n",
    "$min_x \\frac{1}{2} a^T Q a + q^T a$ <br>\n",
    "Where a is the binarised form of alpha, which is N length, so a is binary length NK."
   ]
  }
 ],
 "metadata": {
  "kernelspec": {
   "display_name": "base",
   "language": "python",
   "name": "python3"
  },
  "language_info": {
   "codemirror_mode": {
    "name": "ipython",
    "version": 3
   },
   "file_extension": ".py",
   "mimetype": "text/x-python",
   "name": "python",
   "nbconvert_exporter": "python",
   "pygments_lexer": "ipython3",
   "version": "3.9.13"
  },
  "orig_nbformat": 4
 },
 "nbformat": 4,
 "nbformat_minor": 2
}
