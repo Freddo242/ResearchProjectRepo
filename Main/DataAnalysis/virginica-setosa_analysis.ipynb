{
 "cells": [
  {
   "cell_type": "code",
   "execution_count": 1,
   "metadata": {},
   "outputs": [],
   "source": [
    "import sys\n",
    "sys.path.append('../')\n",
    "\n",
    "import numpy as np\n",
    "np.random.seed(314159)\n",
    "\n",
    "import matplotlib.pyplot as plt\n",
    "import pandas as pd\n",
    "from sklearn.model_selection import train_test_split\n",
    "\n",
    "import parameter_tuning\n",
    "import plot_boundary\n",
    "import analysis_functions as af\n",
    "\n",
    "from metric_functions import compute_accuracy, compute_auc_from_scores\n",
    "from kernel_SVM_functions import rbf_kernel\n",
    "from classifiers import QUBOSoftMarginClassifier, SoftMarginKernelClassifier"
   ]
  },
  {
   "cell_type": "code",
   "execution_count": 2,
   "metadata": {},
   "outputs": [],
   "source": [
    "train_size = 0.4\n",
    "filename = 'virginica-setosa'\n",
    "\n",
    "run_qsvms = False\n",
    "run_csvm = False"
   ]
  },
  {
   "cell_type": "code",
   "execution_count": 3,
   "metadata": {},
   "outputs": [],
   "source": [
    "#Set up train and test data\n",
    "data = pd.read_csv(f'../iris_data/{filename}.csv').to_numpy()\n",
    "\n",
    "X = data[:, 1: -1]\n",
    "t = data[:, -1]\n",
    "#iris_setosa will be 1, iris-versicolor will be -1\n",
    "t[t == 'Iris-virginica'] = 1\n",
    "t[t == 'Iris-setosa'] = -1\n",
    "t = t.astype('float')\n",
    "\n",
    "X_train, X_test, t_train, t_test = train_test_split(X, t, train_size = train_size, shuffle = True, stratify = t)\n",
    "t_train = t_train.reshape(-1, 1)\n",
    "t_test = t_test.reshape(-1, 1)"
   ]
  },
  {
   "attachments": {},
   "cell_type": "markdown",
   "metadata": {},
   "source": [
    "## QSVMs calibration"
   ]
  },
  {
   "cell_type": "code",
   "execution_count": 4,
   "metadata": {},
   "outputs": [],
   "source": [
    "B_values = [2, 3, 5, 10]\n",
    "K_values = [2, 3, 4]\n",
    "R_values = [0, 1, 3, 5]\n",
    "gamma_values = [2 ** i for i in range(-3, 3)]\n",
    "kernel_func = rbf_kernel\n",
    "#This results in a matrix with shape (4, 2, 4, 7)\n",
    "\n",
    "if run_qsvms:\n",
    "\n",
    "    accuracy_results, auroc_results, times = parameter_tuning.tune_qsvm_parameters(X_train, t_train, B_values, K_values, R_values, gamma_values, kernel_func, num_models = 30)\n",
    "\n",
    "    np.save(f'../results/QUBO-{filename}-accuracy', accuracy_results)\n",
    "    np.save(f'../results/QUBO-{filename}-auroc', auroc_results)\n",
    "    np.save(f'../results/QUBO-{filename}-time', times)"
   ]
  },
  {
   "attachments": {},
   "cell_type": "markdown",
   "metadata": {},
   "source": [
    "## cSVM calibration"
   ]
  },
  {
   "cell_type": "code",
   "execution_count": 5,
   "metadata": {},
   "outputs": [],
   "source": [
    "C_values = [2 ** i for i in range(0, 7)]\n",
    "gamma_values = [2 **i for i in range(-3, 3)]\n",
    "kernel_func = rbf_kernel\n",
    "\n",
    "if run_csvm:\n",
    "\n",
    "    accuracy_results, auroc_results, times = parameter_tuning.tune_csvm_parameters(X_train, t_train, C_values, gamma_values, kernel_func)\n",
    "\n",
    "    np.save(f'../results/kSVM-{filename}-accuracy', accuracy_results)\n",
    "    np.save(f'../results/kSVM-{filename}-auroc', auroc_results)\n",
    "    np.save(f'../results/kSVM-{filename}-time', times)"
   ]
  },
  {
   "attachments": {},
   "cell_type": "markdown",
   "metadata": {},
   "source": [
    "## Get data from files"
   ]
  },
  {
   "cell_type": "code",
   "execution_count": 6,
   "metadata": {},
   "outputs": [],
   "source": [
    "qSVM_accuracy = np.load(f'../results/QUBO-{filename}-accuracy.npy')\n",
    "qSVM_auroc = np.load(f'../results/QUBO-{filename}-auroc.npy')\n",
    "\n",
    "cSVM_accuracy = np.load(f'../results/kSVM-{filename}-accuracy.npy')\n",
    "cSVM_auroc = np.load(f'../results/kSVM-{filename}-auroc.npy')"
   ]
  },
  {
   "cell_type": "code",
   "execution_count": 7,
   "metadata": {},
   "outputs": [
    {
     "data": {
      "text/plain": [
       "((4, 3, 4, 6), (7, 6))"
      ]
     },
     "execution_count": 7,
     "metadata": {},
     "output_type": "execute_result"
    }
   ],
   "source": [
    "qSVM_accuracy.shape, cSVM_accuracy.shape"
   ]
  },
  {
   "attachments": {},
   "cell_type": "markdown",
   "metadata": {},
   "source": [
    "## Best calibration performance"
   ]
  },
  {
   "cell_type": "code",
   "execution_count": 8,
   "metadata": {},
   "outputs": [
    {
     "name": "stdout",
     "output_type": "stream",
     "text": [
      "cSVM best accuracy 1.0 \n",
      " cSVM best auroc 1.0 \n",
      "\n",
      "qSVM best accuracy 1.0 \n",
      " qSVM best auroc 1.0 \n",
      "\n"
     ]
    }
   ],
   "source": [
    "print(f'cSVM best accuracy {np.max(cSVM_accuracy[:, 1: ])} \\n cSVM best auroc {np.max(cSVM_auroc[:, 1: ])} \\n')\n",
    "print(f'qSVM best accuracy {np.max(qSVM_accuracy)} \\n qSVM best auroc {np.max(qSVM_auroc)} \\n')"
   ]
  },
  {
   "cell_type": "markdown",
   "metadata": {},
   "source": [
    "## Best QSVMs models"
   ]
  },
  {
   "cell_type": "code",
   "execution_count": 9,
   "metadata": {},
   "outputs": [],
   "source": [
    "#Finding the 20 QSVMs models which performed best in the calibration phase.\n",
    "\n",
    "val_list = [B_values, K_values, R_values, gamma_values]\n",
    "model_indices = af.find_best(qSVM_auroc, 20)\n",
    "top_qsvms_models = [af.get_params(val_list, model_indices[i]) for i in range(len(model_indices))]"
   ]
  },
  {
   "cell_type": "code",
   "execution_count": 10,
   "metadata": {},
   "outputs": [],
   "source": [
    "#50 of each of the top models are trained on the full training set and tested on the test set.\n",
    "#The AUROC and accuracy is averaged as the final AUROC and Accuracy score for that dataset.\n",
    "\n",
    "tp_acc_mean = []\n",
    "tp_acc_std = []\n",
    "\n",
    "tp_auc_mean = []\n",
    "tp_auc_std = []\n",
    "\n",
    "kernel_func = rbf_kernel\n",
    "n = 50\n",
    "\n",
    "for i, model_parameters in enumerate(top_qsvms_models):\n",
    "\n",
    "    accuracy = []\n",
    "    auroc = []\n",
    "\n",
    "    for j in range(n):\n",
    "        \n",
    "        qsmc = QUBOSoftMarginClassifier(model_parameters[0], model_parameters[1], model_parameters[2], kernel_func, model_parameters[3])\n",
    "        qsmc = qsmc.make_QUBO_problem(X_train, t_train).fit(X_train, t_train)\n",
    "        scores = qsmc.decision_function(X_test)\n",
    "        preds = qsmc.predict(X_test)\n",
    "        \n",
    "        accuracy.append(compute_accuracy(preds, t_test))\n",
    "        auroc.append(compute_auc_from_scores(scores, t_test))\n",
    "\n",
    "    tp_acc_mean.append(np.mean(accuracy))\n",
    "    tp_acc_std.append(np.std(accuracy))\n",
    "\n",
    "    tp_auc_mean.append(np.mean(auroc))\n",
    "    tp_auc_std.append(np.std(auroc))"
   ]
  },
  {
   "cell_type": "code",
   "execution_count": 11,
   "metadata": {},
   "outputs": [],
   "source": [
    "sort_index = np.unravel_index(np.argsort(-np.array(tp_auc_mean)), np.array(tp_auc_mean).shape)\n",
    "\n",
    "top_qsvms_models = np.array(top_qsvms_models)[sort_index]\n",
    "\n",
    "tp_acc_mean = np.array(tp_acc_mean)[sort_index]\n",
    "tp_acc_std = np.array(tp_acc_std)[sort_index]\n",
    "\n",
    "tp_auc_mean = np.array(tp_auc_mean)[sort_index]\n",
    "tp_auc_std = np.array(tp_auc_std)[sort_index]"
   ]
  },
  {
   "cell_type": "code",
   "execution_count": 12,
   "metadata": {},
   "outputs": [
    {
     "name": "stdout",
     "output_type": "stream",
     "text": [
      "[[2.    2.    0.    0.125]\n",
      " [2.    2.    3.    4.   ]\n",
      " [2.    2.    3.    2.   ]\n",
      " [2.    2.    3.    1.   ]\n",
      " [2.    2.    3.    0.5  ]\n",
      " [2.    2.    3.    0.25 ]\n",
      " [2.    2.    3.    0.125]\n",
      " [2.    2.    1.    4.   ]\n",
      " [2.    2.    1.    2.   ]\n",
      " [2.    2.    1.    1.   ]\n",
      " [2.    2.    1.    0.5  ]\n",
      " [2.    2.    1.    0.25 ]\n",
      " [2.    2.    1.    0.125]\n",
      " [2.    2.    0.    4.   ]\n",
      " [2.    2.    0.    2.   ]\n",
      " [2.    2.    0.    1.   ]\n",
      " [2.    2.    0.    0.5  ]\n",
      " [2.    2.    0.    0.25 ]\n",
      " [2.    2.    5.    0.125]\n",
      " [2.    2.    5.    0.25 ]]\n"
     ]
    }
   ],
   "source": [
    "print(top_qsvms_models)"
   ]
  },
  {
   "cell_type": "code",
   "execution_count": 18,
   "metadata": {},
   "outputs": [
    {
     "name": "stdout",
     "output_type": "stream",
     "text": [
      "[1. 1. 1. 1. 1. 1. 1. 1. 1. 1. 1. 1. 1. 1. 1. 1. 1. 1. 1. 1.]\n"
     ]
    }
   ],
   "source": [
    "print(tp_auc_mean)"
   ]
  },
  {
   "cell_type": "code",
   "execution_count": 13,
   "metadata": {},
   "outputs": [
    {
     "data": {
      "image/png": "[encoded data removed]",
      "text/plain": [
       "<Figure size 400x400 with 1 Axes>"
      ]
     },
     "metadata": {},
     "output_type": "display_data"
    }
   ],
   "source": [
    "fig, ax = plt.subplots(figsize = (4, 4))\n",
    "\n",
    "af.plot_top_models(top_qsvms_models, np.array([tp_acc_mean, tp_acc_std]), np.array([tp_auc_mean, tp_auc_std]), fig = fig, ax = ax)\n",
    "plt.show()"
   ]
  },
  {
   "cell_type": "markdown",
   "metadata": {},
   "source": [
    "## Best cSVM Models"
   ]
  },
  {
   "cell_type": "code",
   "execution_count": 14,
   "metadata": {},
   "outputs": [],
   "source": [
    "#Finding the 50 cSVM models which performed best in the calibration phase.\n",
    "\n",
    "val_list = [C_values, gamma_values]\n",
    "model_indices = af.find_best(cSVM_auroc, 5)\n",
    "top_csvm_models = [af.get_params(val_list, model_indices[i]) for i in range(len(model_indices))]"
   ]
  },
  {
   "cell_type": "code",
   "execution_count": 15,
   "metadata": {},
   "outputs": [],
   "source": [
    "#Each of the top 5 csvm models are trained on the full training set and tested on the test set.\n",
    "#The AUROC and accuracy are the final scores for that dataset.\n",
    "\n",
    "final_auroc = []\n",
    "final_accuracy = []\n",
    "\n",
    "for c, g in top_csvm_models:\n",
    "\n",
    "    clf = SoftMarginKernelClassifier(c, kernel_func, g)\n",
    "    clf = clf.fit(X_train, t_train)\n",
    "\n",
    "    preds = clf.predict(X_test)\n",
    "    scores = clf.decision_function(X_test)\n",
    "\n",
    "    final_auroc.append(compute_auc_from_scores(scores, t_test))\n",
    "    final_accuracy.append(compute_accuracy(preds, t_test))\n",
    "    "
   ]
  },
  {
   "cell_type": "code",
   "execution_count": 16,
   "metadata": {},
   "outputs": [],
   "source": [
    "sort_index = np.argsort(-np.array(final_auroc))\n",
    "\n",
    "top_csvm_models = np.array(top_csvm_models)[sort_index]\n",
    "final_auroc = np.array(final_auroc)[sort_index]\n",
    "final_accuracy = np.array(final_accuracy)[sort_index]"
   ]
  },
  {
   "cell_type": "code",
   "execution_count": 17,
   "metadata": {},
   "outputs": [
    {
     "name": "stdout",
     "output_type": "stream",
     "text": [
      "[[1.    0.125]\n",
      " [1.    0.25 ]\n",
      " [1.    0.5  ]\n",
      " [1.    1.   ]\n",
      " [1.    2.   ]] \n",
      " [1. 1. 1. 1. 1.]\n"
     ]
    }
   ],
   "source": [
    "print(top_csvm_models, '\\n', final_auroc)"
   ]
  }
 ],
 "metadata": {
  "kernelspec": {
   "display_name": "base",
   "language": "python",
   "name": "python3"
  },
  "language_info": {
   "codemirror_mode": {
    "name": "ipython",
    "version": 3
   },
   "file_extension": ".py",
   "mimetype": "text/x-python",
   "name": "python",
   "nbconvert_exporter": "python",
   "pygments_lexer": "ipython3",
   "version": "3.9.13"
  },
  "orig_nbformat": 4
 },
 "nbformat": 4,
 "nbformat_minor": 2
}
