{
 "cells": [
  {
   "cell_type": "code",
   "execution_count": 1,
   "metadata": {},
   "outputs": [],
   "source": [
    "import sys\n",
    "sys.path.append('../')\n",
    "\n",
    "import numpy as np\n",
    "np.random.seed(314159)\n",
    "\n",
    "import matplotlib.pyplot as plt\n",
    "from sklearn.model_selection import train_test_split\n",
    "\n",
    "import parameter_tuning\n",
    "import plot_boundary\n",
    "import analysis_functions as af\n",
    "\n",
    "from metric_functions import compute_accuracy, compute_auc_from_scores\n",
    "from kernel_SVM_functions import rbf_kernel\n",
    "from classifiers import QUBOSoftMarginClassifier, SoftMarginKernelClassifier"
   ]
  },
  {
   "cell_type": "code",
   "execution_count": 2,
   "metadata": {},
   "outputs": [],
   "source": [
    "train_size = 0.4\n",
    "filename = 'synth_0.4.csv'\n",
    "\n",
    "run_qsvms = False\n",
    "run_csvm = False"
   ]
  },
  {
   "cell_type": "code",
   "execution_count": 3,
   "metadata": {},
   "outputs": [],
   "source": [
    "data = np.loadtxt(f'../synth_data/{filename}', delimiter = ',')"
   ]
  },
  {
   "cell_type": "code",
   "execution_count": 4,
   "metadata": {},
   "outputs": [
    {
     "data": {
      "image/png": "[encoded data removed]",
      "text/plain": [
       "<Figure size 400x400 with 1 Axes>"
      ]
     },
     "metadata": {},
     "output_type": "display_data"
    }
   ],
   "source": [
    "fig, ax = plt.subplots(1, 1, figsize = (4, 4))\n",
    "ax.scatter(data[:, 0], data[:, 1], c = data[:, 2], cmap = 'bwr', s = 20, edgecolors = 'black', linewidths = 0.5)\n",
    "plt.show()"
   ]
  },
  {
   "cell_type": "code",
   "execution_count": 5,
   "metadata": {},
   "outputs": [],
   "source": [
    "X = data[:, :-1]\n",
    "t = data[:, -1]\n",
    "\n",
    "X_train, X_test, t_train, t_test = train_test_split(X, t, train_size = train_size, shuffle = True, stratify = t)\n",
    "\n",
    "t_train = t_train.reshape(-1, 1)\n",
    "t_test = t_test.reshape(-1, 1)"
   ]
  },
  {
   "attachments": {},
   "cell_type": "markdown",
   "metadata": {},
   "source": [
    "## QSVMs Calibration"
   ]
  },
  {
   "cell_type": "code",
   "execution_count": 6,
   "metadata": {},
   "outputs": [],
   "source": [
    "B_values = [2, 3, 5, 10]\n",
    "K_values = [2, 3, 4]\n",
    "R_values = [0, 1, 3, 5]\n",
    "gamma_values = [2 ** i for i in range(-3, 3)]\n",
    "kernel_func = rbf_kernel\n",
    "#This results in a matrix with shape (4, 2, 4, 7)\n",
    "\n",
    "if run_qsvms:\n",
    "\n",
    "    accuracy_results, auroc_results, times = parameter_tuning.tune_qsvm_parameters(X_train, t_train, B_values, K_values, R_values, gamma_values, kernel_func, num_models = 30)\n",
    "\n",
    "    np.save(f'../results/QUBO-{filename}-accuracy', accuracy_results)\n",
    "    np.save(f'../results/QUBO-{filename}-auroc', auroc_results)\n",
    "    np.save(f'../results/QUBO-{filename}-time', times)\n"
   ]
  },
  {
   "attachments": {},
   "cell_type": "markdown",
   "metadata": {},
   "source": [
    "## cSVM Calibration"
   ]
  },
  {
   "cell_type": "code",
   "execution_count": 7,
   "metadata": {},
   "outputs": [],
   "source": [
    "C_values = [2 ** i for i in range(0, 7)]\n",
    "gamma_values = [2 **i for i in range(-3, 3)]\n",
    "kernel_func = rbf_kernel\n",
    "\n",
    "if run_csvm:\n",
    "\n",
    "    accuracy_results, auroc_results, times = parameter_tuning.tune_csvm_parameters(X_train, t_train, C_values, gamma_values, kernel_func)\n",
    "\n",
    "    np.save(f'../results/kSVM-{filename}-accuracy', accuracy_results)\n",
    "    np.save(f'../results/kSVM-{filename}-auroc', auroc_results)\n",
    "    np.save(f'../results/kSVM-{filename}-time', times)\n"
   ]
  },
  {
   "attachments": {},
   "cell_type": "markdown",
   "metadata": {},
   "source": [
    "## Load data from files"
   ]
  },
  {
   "cell_type": "code",
   "execution_count": 8,
   "metadata": {},
   "outputs": [],
   "source": [
    "qSVM_accuracy = np.load(f'../results/QUBO-{filename}-accuracy.npy')\n",
    "qSVM_auroc = np.load(f'../results/QUBO-{filename}-auroc.npy')\n",
    "\n",
    "cSVM_accuracy = np.load(f'../results/kSVM-{filename}-accuracy.npy')\n",
    "cSVM_auroc = np.load(f'../results/kSVM-{filename}-auroc.npy')"
   ]
  },
  {
   "cell_type": "code",
   "execution_count": 9,
   "metadata": {},
   "outputs": [
    {
     "data": {
      "text/plain": [
       "((4, 3, 4, 6), (7, 6))"
      ]
     },
     "execution_count": 9,
     "metadata": {},
     "output_type": "execute_result"
    }
   ],
   "source": [
    "qSVM_accuracy.shape, cSVM_accuracy.shape"
   ]
  },
  {
   "attachments": {},
   "cell_type": "markdown",
   "metadata": {},
   "source": [
    "## Best performance"
   ]
  },
  {
   "cell_type": "code",
   "execution_count": 10,
   "metadata": {},
   "outputs": [
    {
     "name": "stdout",
     "output_type": "stream",
     "text": [
      "cSVM best accuracy 0.82 \n",
      " cSVM best auroc 0.9 \n",
      "\n",
      "qSVM best accuracy 0.7936666666666667 \n",
      " qSVM best auroc 0.8572222222222223 \n",
      "\n"
     ]
    }
   ],
   "source": [
    "print(f'cSVM best accuracy {np.max(cSVM_accuracy[:, 1: ])} \\n cSVM best auroc {np.max(cSVM_auroc[:, 1: ])} \\n')\n",
    "print(f'qSVM best accuracy {np.max(qSVM_accuracy)} \\n qSVM best auroc {np.max(qSVM_auroc)} \\n')"
   ]
  },
  {
   "attachments": {},
   "cell_type": "markdown",
   "metadata": {},
   "source": [
    "## Best QSVMs models"
   ]
  },
  {
   "cell_type": "code",
   "execution_count": 11,
   "metadata": {},
   "outputs": [],
   "source": [
    "#Finds the top 20 QSVMs hyper-parameters based on cross validation AUROC score \n",
    "\n",
    "val_list = [B_values, K_values, R_values, gamma_values]\n",
    "model_indices = af.find_best(qSVM_auroc, 20)\n",
    "top_qsvms_models = [af.get_params(val_list, model_indices[i]) for i in range(len(model_indices))]\n",
    "qsvm_calib_auc = [qSVM_auroc[i] for i in model_indices]\n",
    "qsvm_calib_acc = [qSVM_accuracy[i] for i in model_indices]"
   ]
  },
  {
   "cell_type": "code",
   "execution_count": 12,
   "metadata": {},
   "outputs": [
    {
     "data": {
      "text/plain": [
       "(0.8572222222222223, 0.7936666666666667)"
      ]
     },
     "execution_count": 12,
     "metadata": {},
     "output_type": "execute_result"
    }
   ],
   "source": [
    "qsvm_calib_auc[0], qsvm_calib_acc[0]"
   ]
  },
  {
   "cell_type": "code",
   "execution_count": 13,
   "metadata": {},
   "outputs": [],
   "source": [
    "#New training 50 top models. Keeping the auroc of each model in order to draw a boxplot.\n",
    "#qsvms top models auroc is shape (50, number of top models). columns represent the results for each model.\n",
    "qsvm_topmodels_auroc = np.zeros((50, len(top_qsvms_models)))\n",
    "qsvm_topmodels_acc = np.zeros((50, len(top_qsvms_models)))\n",
    "\n",
    "kernel_func = rbf_kernel\n",
    "n = 50\n",
    "\n",
    "run = False\n",
    "\n",
    "if run:\n",
    "\n",
    "    for i, model_parameters in enumerate(top_qsvms_models):\n",
    "    \n",
    "        for j in range(n):\n",
    "        \n",
    "            qsmc = QUBOSoftMarginClassifier(model_parameters[0], model_parameters[1], model_parameters[2], kernel_func, model_parameters[3])\n",
    "            qsmc = qsmc.make_QUBO_problem(X_train, t_train).fit(X_train, t_train)\n",
    "            scores = qsmc.decision_function(X_test)\n",
    "            preds = qsmc.predict(X_test)\n",
    "    \n",
    "            accuracy = compute_accuracy(preds, t_test)\n",
    "            auroc = compute_auc_from_scores(scores, t_test)\n",
    "    \n",
    "            qsvm_topmodels_auroc[j, i] = auroc\n",
    "            qsvm_topmodels_acc[j, i] = accuracy\n",
    "\n",
    "    np.save('../results/synth-4_qSVM_top_models', np.array(top_qsvms_models))\n",
    "    np.save('../results/synth-4_qSVM_top_auroc', qsvm_topmodels_auroc)\n",
    "    np.save('../results/synth-4_qSVM_top_accuracy', qsvm_topmodels_acc)\n",
    "\n",
    "top_qsvms_models = np.load('../results/synth-4_qSVM_top_models.npy')\n",
    "qsvm_topmodels_auroc = np.load('../results/synth-4_qSVM_top_auroc.npy')\n",
    "qsvm_topmodels_acc = np.load('../results/synth-4_qSVM_top_accuracy.npy')"
   ]
  },
  {
   "cell_type": "code",
   "execution_count": 14,
   "metadata": {},
   "outputs": [
    {
     "data": {
      "text/plain": [
       "array([0.04591049, 0.05806327, 0.04938272, 0.0472608 , 0.03549383,\n",
       "       0.04282407, 0.04224537, 0.04378858, 0.06597222, 0.05767747,\n",
       "       0.03375772, 0.02893519, 0.04783951, 0.07407407, 0.02565586,\n",
       "       0.02989969, 0.0464892 , 0.046875  , 0.03684414, 0.0464892 ])"
      ]
     },
     "execution_count": 14,
     "metadata": {},
     "output_type": "execute_result"
    }
   ],
   "source": [
    "from scipy.stats import iqr\n",
    "\n",
    "interquart = iqr(qsvm_topmodels_auroc, axis = 0)\n",
    "interquart"
   ]
  },
  {
   "cell_type": "code",
   "execution_count": 15,
   "metadata": {},
   "outputs": [
    {
     "data": {
      "text/plain": [
       "0.04527391975308641"
      ]
     },
     "execution_count": 15,
     "metadata": {},
     "output_type": "execute_result"
    }
   ],
   "source": [
    "np.mean(interquart, axis=0)"
   ]
  },
  {
   "cell_type": "code",
   "execution_count": 16,
   "metadata": {},
   "outputs": [
    {
     "name": "stdout",
     "output_type": "stream",
     "text": [
      "0.5\n"
     ]
    },
    {
     "data": {
      "image/png": "[encoded data removed]",
      "text/plain": [
       "<Figure size 400x500 with 1 Axes>"
      ]
     },
     "metadata": {},
     "output_type": "display_data"
    }
   ],
   "source": [
    "fig, ax = plt.subplots(figsize=(4, 5))\n",
    "\n",
    "af.models_auc_boxplot(top_qsvms_models, qsvm_topmodels_auroc, 0.75, fig = fig, ax = ax)\n",
    "\n",
    "ax.plot(np.arange(1, 21, 1), np.mean(qsvm_topmodels_acc, axis=0), linestyle = '--', color='darkblue', alpha = 0.7, zorder = 5, label = 'Mean Accuracy')\n",
    "\n",
    "ax.set_ylabel('Metric Score')\n",
    "ax.set_title('Synth-4 best models distribution')\n",
    "\n",
    "plt.legend()\n",
    "plt.tight_layout()\n",
    "plt.savefig('../plots/synth-4-boxplot.png', dpi = 256)\n",
    "plt.show()"
   ]
  },
  {
   "cell_type": "markdown",
   "metadata": {},
   "source": [
    "## Best cSVM models"
   ]
  },
  {
   "cell_type": "code",
   "execution_count": 17,
   "metadata": {},
   "outputs": [],
   "source": [
    "#Finding the 5 cSVM models which performed best in the calibration phase.\n",
    "\n",
    "val_list = [C_values, gamma_values]\n",
    "model_indices = af.find_best(cSVM_auroc, 5)\n",
    "top_csvm_models = [af.get_params(val_list, model_indices[i]) for i in range(len(model_indices))]\n",
    "csvm_calib_auc = [cSVM_auroc[i] for i in model_indices]\n",
    "csvm_calib_acc = [cSVM_accuracy[i] for i in model_indices]"
   ]
  },
  {
   "cell_type": "code",
   "execution_count": 18,
   "metadata": {},
   "outputs": [
    {
     "data": {
      "text/plain": [
       "[0.9,\n",
       " 0.8833333333333334,\n",
       " 0.8833333333333332,\n",
       " 0.8666666666666668,\n",
       " 0.8666666666666666]"
      ]
     },
     "execution_count": 18,
     "metadata": {},
     "output_type": "execute_result"
    }
   ],
   "source": [
    "csvm_calib_auc"
   ]
  },
  {
   "cell_type": "code",
   "execution_count": 19,
   "metadata": {},
   "outputs": [],
   "source": [
    "#Each of the top 5 csvm models are trained on the full training set and tested on the test set.\n",
    "#The AUROC and accuracy are the final scores for that dataset.\n",
    "\n",
    "final_auroc = []\n",
    "final_accuracy = []\n",
    "\n",
    "run = False\n",
    "\n",
    "if run:\n",
    "\n",
    "    for c, g in top_csvm_models:\n",
    "\n",
    "        clf = SoftMarginKernelClassifier(c, kernel_func, g)\n",
    "        clf = clf.fit(X_train, t_train)\n",
    "\n",
    "        preds = clf.predict(X_test)\n",
    "        scores = clf.decision_function(X_test)\n",
    "\n",
    "        final_auroc.append(compute_auc_from_scores(scores, t_test))\n",
    "        final_accuracy.append(compute_accuracy(preds, t_test))\n",
    "\n",
    "    np.save('../results/synth-4_cSVM_top_models', top_csvm_models)\n",
    "    np.save('../results/synth-4_cSVM_top_auroc', np.array(final_auroc))\n",
    "    np.save('../results/synth-4_cSVM_top_accuracy', np.array(final_accuracy))\n",
    "\n",
    "top_csvm_models = np.load('../results/synth-4_cSVM_top_models.npy')\n",
    "final_auroc = np.load('../results/synth-4_cSVM_top_auroc.npy')\n",
    "final_accuracy = np.load('../results/synth-4_cSVM_top_accuracy.npy')"
   ]
  },
  {
   "cell_type": "code",
   "execution_count": 20,
   "metadata": {},
   "outputs": [],
   "source": [
    "sort_index = np.argsort(-np.array(final_auroc))\n",
    "\n",
    "top_csvm_models = np.array(top_csvm_models)[sort_index]\n",
    "final_auroc = np.array(final_auroc)[sort_index]\n",
    "final_accuracy = np.array(final_accuracy)[sort_index]"
   ]
  },
  {
   "cell_type": "code",
   "execution_count": 21,
   "metadata": {},
   "outputs": [
    {
     "data": {
      "text/plain": [
       "(array([0.75      , 0.74151235, 0.73302469, 0.73302469, 0.72916667]),\n",
       " array([0.65277778, 0.68055556, 0.69444444, 0.69444444, 0.69444444]))"
      ]
     },
     "execution_count": 21,
     "metadata": {},
     "output_type": "execute_result"
    }
   ],
   "source": [
    "final_auroc, final_accuracy"
   ]
  },
  {
   "cell_type": "code",
   "execution_count": 22,
   "metadata": {},
   "outputs": [
    {
     "name": "stdout",
     "output_type": "stream",
     "text": [
      "[[1 2]\n",
      " [1 4]\n",
      " [2 2]\n",
      " [2 4]\n",
      " [4 2]]\n"
     ]
    }
   ],
   "source": [
    "print(top_csvm_models)"
   ]
  },
  {
   "cell_type": "markdown",
   "metadata": {},
   "source": [
    "## Looking at Bias"
   ]
  },
  {
   "cell_type": "code",
   "execution_count": 23,
   "metadata": {},
   "outputs": [],
   "source": [
    "QUBOClassifier = QUBOSoftMarginClassifier(2, 4, 5, rbf_kernel, 2)\n",
    "QUBOClassifier = QUBOClassifier.make_QUBO_problem(X_train, t_train).fit(X_train, t_train)\n",
    "original_bias = QUBOClassifier.bias.copy()"
   ]
  },
  {
   "cell_type": "code",
   "execution_count": 24,
   "metadata": {},
   "outputs": [],
   "source": [
    "\n",
    "accuracies = []\n",
    "b_values = np.arange(-60, 60, 1)\n",
    "for b in b_values:\n",
    "    QUBOClassifier = QUBOClassifier.set_bias(b)\n",
    "    preds = QUBOClassifier.predict(X_test)\n",
    "    accuracies.append(compute_accuracy(preds, t_test))"
   ]
  },
  {
   "cell_type": "code",
   "execution_count": 25,
   "metadata": {},
   "outputs": [],
   "source": [
    "from matplotlib.ticker import AutoMinorLocator"
   ]
  },
  {
   "cell_type": "code",
   "execution_count": 26,
   "metadata": {},
   "outputs": [],
   "source": [
    "original_acc = np.array(accuracies)[np.argmax(b_values > original_bias)]"
   ]
  },
  {
   "cell_type": "code",
   "execution_count": 27,
   "metadata": {},
   "outputs": [
    {
     "data": {
      "image/png": "[encoded data removed]",
      "text/plain": [
       "<Figure size 400x400 with 1 Axes>"
      ]
     },
     "metadata": {},
     "output_type": "display_data"
    }
   ],
   "source": [
    "fig, ax = plt.subplots(figsize=(4, 4))\n",
    "\n",
    "ax.plot(b_values, accuracies, color = 'blue', linestyle='-', label='Test accuracy', alpha=0.8, linewidth=1, zorder=2)\n",
    "\n",
    "ax.plot([b_values[np.argmax(accuracies)]] * 2, [0.45, 0.9], linewidth=1, color='green', alpha=0.8, zorder=4, label='Optimal bias')\n",
    "ax.plot([original_bias] * 2, [0.45, 0.9], linewidth=1, color='orange', alpha=0.8, zorder=5, label='Chosen bias')\n",
    "\n",
    "ax.set_xlim(-61, 60)\n",
    "ax.set_xticks(np.arange(-60, 61, 20))\n",
    "ax.xaxis.set_minor_locator(AutoMinorLocator(2))\n",
    "\n",
    "ax.set_ylim(0.49, 0.81)\n",
    "ax.set_yticks([0.5, 0.6, 0.7, 0.8], [0.5, 0.6, 0.7, 0.8])\n",
    "ax.yaxis.set_minor_locator(AutoMinorLocator(2))\n",
    "\n",
    "ax.set_ylabel('Accuracy')\n",
    "ax.set_xlabel('Bias b')\n",
    "\n",
    "ax.legend()\n",
    "\n",
    "plt.savefig('bias_plot.png', dpi=256)\n",
    "plt.show()"
   ]
  }
 ],
 "metadata": {
  "kernelspec": {
   "display_name": "base",
   "language": "python",
   "name": "python3"
  },
  "language_info": {
   "codemirror_mode": {
    "name": "ipython",
    "version": 3
   },
   "file_extension": ".py",
   "mimetype": "text/x-python",
   "name": "python",
   "nbconvert_exporter": "python",
   "pygments_lexer": "ipython3",
   "version": "3.9.13"
  },
  "orig_nbformat": 4
 },
 "nbformat": 4,
 "nbformat_minor": 2
}
