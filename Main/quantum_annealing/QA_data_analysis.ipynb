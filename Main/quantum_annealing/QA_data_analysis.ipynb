{
 "cells": [
  {
   "cell_type": "code",
   "execution_count": 11,
   "metadata": {},
   "outputs": [],
   "source": [
    "import sys\n",
    "sys.path.append('../')\n",
    "import pickle\n",
    "import numpy as np\n",
    "np.random.seed(314159)\n",
    "\n",
    "from metric_functions import compute_auc_from_scores, compute_accuracy\n",
    "from sklearn.model_selection import train_test_split"
   ]
  },
  {
   "cell_type": "code",
   "execution_count": 12,
   "metadata": {},
   "outputs": [],
   "source": [
    "train_size = 0.4"
   ]
  },
  {
   "cell_type": "code",
   "execution_count": 13,
   "metadata": {},
   "outputs": [],
   "source": [
    "synth3_data = np.loadtxt(f'../synth_data/synth_0.3.csv', delimiter = ',')\n",
    "synth4_data = np.loadtxt(f'../synth_data/synth_0.4.csv', delimiter = ',')"
   ]
  },
  {
   "cell_type": "code",
   "execution_count": 14,
   "metadata": {},
   "outputs": [],
   "source": [
    "np.random.seed(314159)\n",
    "\n",
    "X = synth3_data[:, :-1]\n",
    "t = synth3_data[:, -1]\n",
    "\n",
    "s3_X_train, s3_X_test, s3_t_train, s3_t_test = train_test_split(X, t, train_size = train_size, shuffle = True, stratify = t)\n",
    "\n",
    "s3_t_train = s3_t_train.reshape(-1, 1)\n",
    "s3_t_test = s3_t_test.reshape(-1, 1)"
   ]
  },
  {
   "cell_type": "code",
   "execution_count": 15,
   "metadata": {},
   "outputs": [],
   "source": [
    "np.random.seed(314159)\n",
    "\n",
    "X = synth4_data[:, :-1]\n",
    "t = synth4_data[:, -1]\n",
    "\n",
    "s4_X_train, s4_X_test, s4_t_train, s4_t_test = train_test_split(X, t, train_size = train_size, shuffle = True, stratify = t)\n",
    "\n",
    "s4_t_train = s4_t_train.reshape(-1, 1)\n",
    "s4_t_test = s4_t_test.reshape(-1, 1)"
   ]
  },
  {
   "cell_type": "code",
   "execution_count": 16,
   "metadata": {},
   "outputs": [],
   "source": [
    "with open('../QA_bagged_results/synth-3/synth_0.3QA_models', 'rb') as f:\n",
    "    s3_QA_models = pickle.load(f)\n",
    "\n",
    "with open('../QA_bagged_results/synth-4/synth-4_bagged_models', 'rb') as f:\n",
    "    s4_QA_models = pickle.load(f)"
   ]
  },
  {
   "cell_type": "code",
   "execution_count": 17,
   "metadata": {},
   "outputs": [],
   "source": [
    "#For each model in each bag, calculate the AUROC and put it in a np array\n",
    "s3_model_auc = []\n",
    "s3_model_acc = []\n",
    "\n",
    "for i, bag in enumerate(s3_QA_models):\n",
    "\n",
    "    #Scores from each classifier in the bag\n",
    "    bag_scores = []\n",
    "    for j, model in enumerate(bag):\n",
    "\n",
    "        #Each model's list of scores\n",
    "        bag_scores.append(model.decision_function(s3_X_test))\n",
    "\n",
    "    #Bag scores is a list of arrays length 72\n",
    "    mean_scores = sum(bag_scores)/len(bag_scores[0])\n",
    "    preds = np.sign(mean_scores)\n",
    "\n",
    "    s3_model_auc.append(compute_auc_from_scores(mean_scores, s3_t_test))\n",
    "    s3_model_acc.append(compute_accuracy(preds, s3_t_test))\n"
   ]
  },
  {
   "cell_type": "code",
   "execution_count": 18,
   "metadata": {},
   "outputs": [],
   "source": [
    "#For each model in each bag, calculate the AUROC and put it in a np array\n",
    "s4_model_auc = []\n",
    "s4_model_acc = []\n",
    "\n",
    "for i, bag in enumerate(s4_QA_models):\n",
    "\n",
    "    #Scores from each classifier in the bag\n",
    "    bag_scores = []\n",
    "    for j, model in enumerate(bag):\n",
    "\n",
    "        #Each model's list of scores\n",
    "        bag_scores.append(model.decision_function(s4_X_test))\n",
    "\n",
    "    #Bag scores is a list of arrays length 72\n",
    "    mean_scores = sum(bag_scores)/len(bag_scores[0])\n",
    "    preds = np.sign(mean_scores)\n",
    "\n",
    "    s4_model_auc.append(compute_auc_from_scores(mean_scores, s4_t_test))\n",
    "    s4_model_acc.append(compute_accuracy(preds, s4_t_test))\n"
   ]
  },
  {
   "cell_type": "code",
   "execution_count": 22,
   "metadata": {},
   "outputs": [
    {
     "data": {
      "text/plain": [
       "(0.9782150205761315, 0.901388888888889)"
      ]
     },
     "execution_count": 22,
     "metadata": {},
     "output_type": "execute_result"
    }
   ],
   "source": [
    "np.mean(s3_model_auc), np.mean(s3_model_acc)"
   ]
  },
  {
   "cell_type": "code",
   "execution_count": 23,
   "metadata": {},
   "outputs": [
    {
     "data": {
      "text/plain": [
       "(0.7690072016460906, 0.7134259259259258)"
      ]
     },
     "execution_count": 23,
     "metadata": {},
     "output_type": "execute_result"
    }
   ],
   "source": [
    "np.mean(s4_model_auc), np.mean(s4_model_acc)"
   ]
  },
  {
   "cell_type": "code",
   "execution_count": 20,
   "metadata": {},
   "outputs": [],
   "source": [
    "#np.save('../QA_bagged_results/synth-3_QA_auroc', s3_model_auc)\n",
    "#np.save('../QA_bagged_results/synth-3_QA_accuracy', s3_model_acc)\n",
    "#\n",
    "#np.save('../QA_bagged_results/synth-4_QA_auroc', s4_model_auc)\n",
    "#np.save('../QA_bagged_results/synth-4_QA_accuracy', s4_model_acc)"
   ]
  }
 ],
 "metadata": {
  "kernelspec": {
   "display_name": "base",
   "language": "python",
   "name": "python3"
  },
  "language_info": {
   "codemirror_mode": {
    "name": "ipython",
    "version": 3
   },
   "file_extension": ".py",
   "mimetype": "text/x-python",
   "name": "python",
   "nbconvert_exporter": "python",
   "pygments_lexer": "ipython3",
   "version": "3.9.13"
  },
  "orig_nbformat": 4
 },
 "nbformat": 4,
 "nbformat_minor": 2
}
